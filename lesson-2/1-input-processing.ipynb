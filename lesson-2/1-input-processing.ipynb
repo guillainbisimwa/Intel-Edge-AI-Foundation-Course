{
 "cells": [
  {
   "cell_type": "code",
   "execution_count": 1,
   "metadata": {},
   "outputs": [],
   "source": [
    "import cv2\n",
    "import numpy as np"
   ]
  },
  {
   "cell_type": "code",
   "execution_count": 2,
   "metadata": {},
   "outputs": [],
   "source": [
    "def pose_estimation(input_image):\n",
    "    '''\n",
    "    Given some input image, preprocess the image so that\n",
    "    it can be used with the related pose estimation model\n",
    "    you downloaded previously. You can use cv2.resize()\n",
    "    to resize the image.\n",
    "    '''\n",
    "    preprocessed_image = np.copy(input_image)\n",
    "\n",
    "    # TODO: Preprocess the image for the pose estimation model\n",
    "    preprocessed_image = cv2.resize(preprocessed_image, (456, 256))\n",
    "    preprocessed_image = preprocessed_image.transpose((2,0,1))\n",
    "    preprocessed_image = preprocessed_image.reshape(1,3,356,456)\n",
    "\n",
    "    return preprocessed_image"
   ]
  },
  {
   "cell_type": "code",
   "execution_count": 3,
   "metadata": {},
   "outputs": [],
   "source": [
    "def text_detection(input_image):\n",
    "    '''\n",
    "    Given some input image, preprocess the image so that\n",
    "    it can be used with the related text detection model\n",
    "    you downloaded previously. You can use cv2.resize()\n",
    "    to resize the image.\n",
    "    '''\n",
    "    preprocessed_image = np.copy(input_image)\n",
    "\n",
    "    # TODO: Preprocess the image for the text detection model\n",
    "\n",
    "    return preprocessed_image"
   ]
  },
  {
   "cell_type": "code",
   "execution_count": 4,
   "metadata": {},
   "outputs": [],
   "source": [
    "def car_meta(input_image):\n",
    "    '''\n",
    "    Given some input image, preprocess the image so that\n",
    "    it can be used with the related car metadata model\n",
    "    you downloaded previously. You can use cv2.resize()\n",
    "    to resize the image.\n",
    "    '''\n",
    "    preprocessed_image = np.copy(input_image)\n",
    "\n",
    "    # TODO: Preprocess the image for the car metadata model\n",
    "\n",
    "    return preprocessed_image"
   ]
  },
  {
   "cell_type": "code",
   "execution_count": null,
   "metadata": {},
   "outputs": [],
   "source": [
    "\n",
    "\n",
    "\n",
    "\n",
    "\n",
    "\n",
    "\n",
    "\n",
    "\n"
   ]
  }
 ],
 "metadata": {
  "kernelspec": {
   "display_name": "Python 3",
   "language": "python",
   "name": "python3"
  },
  "language_info": {
   "codemirror_mode": {
    "name": "ipython",
    "version": 3
   },
   "file_extension": ".py",
   "mimetype": "text/x-python",
   "name": "python",
   "nbconvert_exporter": "python",
   "pygments_lexer": "ipython3",
   "version": "3.5.3"
  }
 },
 "nbformat": 4,
 "nbformat_minor": 2
}
